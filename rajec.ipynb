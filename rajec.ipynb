{
 "cells": [
  {
   "cell_type": "code",
   "execution_count": 2,
   "metadata": {},
   "outputs": [],
   "source": [
    "import pandas as pd \n",
    "import numpy as np \n",
    "import matplotlib.pyplot as plt \n",
    "import seaborn as sns\n",
    "import plotly.express as px\n",
    "\n"
   ]
  },
  {
   "cell_type": "code",
   "execution_count": 3,
   "metadata": {},
   "outputs": [
    {
     "data": {
      "text/html": [
       "<div>\n",
       "<style scoped>\n",
       "    .dataframe tbody tr th:only-of-type {\n",
       "        vertical-align: middle;\n",
       "    }\n",
       "\n",
       "    .dataframe tbody tr th {\n",
       "        vertical-align: top;\n",
       "    }\n",
       "\n",
       "    .dataframe thead th {\n",
       "        text-align: right;\n",
       "    }\n",
       "</style>\n",
       "<table border=\"1\" class=\"dataframe\">\n",
       "  <thead>\n",
       "    <tr style=\"text-align: right;\">\n",
       "      <th></th>\n",
       "      <th>EČV</th>\n",
       "      <th>Vozidlo</th>\n",
       "      <th>Kapacita</th>\n",
       "      <th>Dátum</th>\n",
       "      <th>Deň</th>\n",
       "      <th>Spoj</th>\n",
       "      <th>cestujuci_nastup</th>\n",
       "      <th>cestujuci_vystup</th>\n",
       "      <th>maximum_cestujich</th>\n",
       "      <th>Maximum obsadenosť [%]</th>\n",
       "      <th>Ø obsadenosť [%]</th>\n",
       "    </tr>\n",
       "  </thead>\n",
       "  <tbody>\n",
       "    <tr>\n",
       "      <th>0</th>\n",
       "      <td>AA-217 ET</td>\n",
       "      <td>Crossway Line C 10,8</td>\n",
       "      <td>60</td>\n",
       "      <td>2024-01-01</td>\n",
       "      <td>Pondelok</td>\n",
       "      <td>050130/4 06:25 &lt;-</td>\n",
       "      <td>11</td>\n",
       "      <td>11</td>\n",
       "      <td>11</td>\n",
       "      <td>0.000000</td>\n",
       "      <td>18.333333</td>\n",
       "    </tr>\n",
       "    <tr>\n",
       "      <th>1</th>\n",
       "      <td>AA-217 ET</td>\n",
       "      <td>Crossway Line C 10,8</td>\n",
       "      <td>60</td>\n",
       "      <td>2024-01-01</td>\n",
       "      <td>Pondelok</td>\n",
       "      <td>050130/45 22:30 -&gt;</td>\n",
       "      <td>7</td>\n",
       "      <td>5</td>\n",
       "      <td>4</td>\n",
       "      <td>28.571429</td>\n",
       "      <td>6.666667</td>\n",
       "    </tr>\n",
       "    <tr>\n",
       "      <th>2</th>\n",
       "      <td>AA-217 ET</td>\n",
       "      <td>Crossway Line C 10,8</td>\n",
       "      <td>60</td>\n",
       "      <td>2024-01-01</td>\n",
       "      <td>Pondelok</td>\n",
       "      <td>050130/82 20:30 &lt;-</td>\n",
       "      <td>4</td>\n",
       "      <td>4</td>\n",
       "      <td>3</td>\n",
       "      <td>0.000000</td>\n",
       "      <td>5.000000</td>\n",
       "    </tr>\n",
       "    <tr>\n",
       "      <th>3</th>\n",
       "      <td>AA-217 ET</td>\n",
       "      <td>Crossway Line C 10,8</td>\n",
       "      <td>60</td>\n",
       "      <td>2024-01-01</td>\n",
       "      <td>Pondelok</td>\n",
       "      <td>050137/69 17:13 -&gt;</td>\n",
       "      <td>3</td>\n",
       "      <td>3</td>\n",
       "      <td>3</td>\n",
       "      <td>0.000000</td>\n",
       "      <td>5.000000</td>\n",
       "    </tr>\n",
       "    <tr>\n",
       "      <th>4</th>\n",
       "      <td>AA-217 ET</td>\n",
       "      <td>Crossway Line C 10,8</td>\n",
       "      <td>60</td>\n",
       "      <td>2024-01-01</td>\n",
       "      <td>Pondelok</td>\n",
       "      <td>050137/72 17:50 &lt;-</td>\n",
       "      <td>8</td>\n",
       "      <td>8</td>\n",
       "      <td>8</td>\n",
       "      <td>0.000000</td>\n",
       "      <td>13.333333</td>\n",
       "    </tr>\n",
       "  </tbody>\n",
       "</table>\n",
       "</div>"
      ],
      "text/plain": [
       "         EČV               Vozidlo  Kapacita      Dátum       Deň  \\\n",
       "0  AA-217 ET  Crossway Line C 10,8        60 2024-01-01  Pondelok   \n",
       "1  AA-217 ET  Crossway Line C 10,8        60 2024-01-01  Pondelok   \n",
       "2  AA-217 ET  Crossway Line C 10,8        60 2024-01-01  Pondelok   \n",
       "3  AA-217 ET  Crossway Line C 10,8        60 2024-01-01  Pondelok   \n",
       "4  AA-217 ET  Crossway Line C 10,8        60 2024-01-01  Pondelok   \n",
       "\n",
       "                  Spoj  cestujuci_nastup  cestujuci_vystup  maximum_cestujich  \\\n",
       "0    050130/4 06:25 <-                11                11                 11   \n",
       "1   050130/45 22:30 ->                 7                 5                  4   \n",
       "2   050130/82 20:30 <-                 4                 4                  3   \n",
       "3   050137/69 17:13 ->                 3                 3                  3   \n",
       "4   050137/72 17:50 <-                 8                 8                  8   \n",
       "\n",
       "   Maximum obsadenosť [%]  Ø obsadenosť [%]  \n",
       "0                0.000000         18.333333  \n",
       "1               28.571429          6.666667  \n",
       "2                0.000000          5.000000  \n",
       "3                0.000000          5.000000  \n",
       "4                0.000000         13.333333  "
      ]
     },
     "execution_count": 3,
     "metadata": {},
     "output_type": "execute_result"
    }
   ],
   "source": [
    "rajec = pd.read_excel(\"cestujuci_Rajec.xlsx\")\n",
    "rajec.head()"
   ]
  },
  {
   "cell_type": "code",
   "execution_count": 4,
   "metadata": {},
   "outputs": [
    {
     "name": "stdout",
     "output_type": "stream",
     "text": [
      "<class 'pandas.core.frame.DataFrame'>\n",
      "RangeIndex: 47901 entries, 0 to 47900\n",
      "Data columns (total 11 columns):\n",
      " #   Column                  Non-Null Count  Dtype         \n",
      "---  ------                  --------------  -----         \n",
      " 0   EČV                     47901 non-null  object        \n",
      " 1   Vozidlo                 47901 non-null  object        \n",
      " 2   Kapacita                47901 non-null  int64         \n",
      " 3   Dátum                   47901 non-null  datetime64[ns]\n",
      " 4   Deň                     47901 non-null  object        \n",
      " 5   Spoj                    47901 non-null  object        \n",
      " 6   cestujuci_nastup        47901 non-null  int64         \n",
      " 7   cestujuci_vystup        47901 non-null  int64         \n",
      " 8   maximum_cestujich       47901 non-null  int64         \n",
      " 9   Maximum obsadenosť [%]  47901 non-null  float64       \n",
      " 10  Ø obsadenosť [%]        47901 non-null  float64       \n",
      "dtypes: datetime64[ns](1), float64(2), int64(4), object(4)\n",
      "memory usage: 4.0+ MB\n"
     ]
    }
   ],
   "source": [
    "rajec.info()"
   ]
  },
  {
   "cell_type": "code",
   "execution_count": 5,
   "metadata": {},
   "outputs": [
    {
     "data": {
      "text/plain": [
       "456"
      ]
     },
     "execution_count": 5,
     "metadata": {},
     "output_type": "execute_result"
    }
   ],
   "source": [
    "rajec.Spoj.nunique()"
   ]
  },
  {
   "cell_type": "code",
   "execution_count": 6,
   "metadata": {},
   "outputs": [],
   "source": [
    "#Nový stplec pre mesiac\n",
    "rajec['Mesiac'] = rajec['Dátum'].dt.month_name()\n",
    "\n",
    "# Vypočítaj priemerný počet cestujúcich pre každý mesiac\n",
    "priemery = rajec.groupby('Mesiac')['cestujuci_nastup'].mean().reindex(\n",
    "    ['January', 'February', 'March', 'April', 'May', 'June', 'July']).reset_index(name=\"priemerny nástup\")\n",
    "priemery\n",
    "priemery.to_excel('priemery.xlsx', index=False)"
   ]
  },
  {
   "cell_type": "code",
   "execution_count": 7,
   "metadata": {},
   "outputs": [],
   "source": [
    "fig = px.line(priemery, x='Mesiac', y='priemerny nástup', title='Priemerný nástup cestujúcich v Rajci za jednotlivé mesiace',\n",
    "            \n",
    "              width = 1200,\n",
    "              height = 700,\n",
    "              markers = True)\n",
    "fig.update_layout(title_x=0.5)\n",
    "fig\n",
    "fig.write_html('all_linky.html')"
   ]
  },
  {
   "cell_type": "code",
   "execution_count": 8,
   "metadata": {},
   "outputs": [],
   "source": [
    "just_linka = rajec.Spoj.str.split(\"/\").str[0]\n",
    "rajec.insert(6, \"Linka\", just_linka)\n"
   ]
  },
  {
   "cell_type": "code",
   "execution_count": 9,
   "metadata": {},
   "outputs": [
    {
     "data": {
      "text/html": [
       "<div>\n",
       "<style scoped>\n",
       "    .dataframe tbody tr th:only-of-type {\n",
       "        vertical-align: middle;\n",
       "    }\n",
       "\n",
       "    .dataframe tbody tr th {\n",
       "        vertical-align: top;\n",
       "    }\n",
       "\n",
       "    .dataframe thead th {\n",
       "        text-align: right;\n",
       "    }\n",
       "</style>\n",
       "<table border=\"1\" class=\"dataframe\">\n",
       "  <thead>\n",
       "    <tr style=\"text-align: right;\">\n",
       "      <th></th>\n",
       "      <th>EČV</th>\n",
       "      <th>Vozidlo</th>\n",
       "      <th>Kapacita</th>\n",
       "      <th>Dátum</th>\n",
       "      <th>Deň</th>\n",
       "      <th>Spoj</th>\n",
       "      <th>Linka</th>\n",
       "      <th>cestujuci_nastup</th>\n",
       "      <th>cestujuci_vystup</th>\n",
       "      <th>maximum_cestujich</th>\n",
       "      <th>Maximum obsadenosť [%]</th>\n",
       "      <th>Ø obsadenosť [%]</th>\n",
       "      <th>Mesiac</th>\n",
       "    </tr>\n",
       "  </thead>\n",
       "  <tbody>\n",
       "    <tr>\n",
       "      <th>0</th>\n",
       "      <td>AA-217 ET</td>\n",
       "      <td>Crossway Line C 10,8</td>\n",
       "      <td>60</td>\n",
       "      <td>2024-01-01</td>\n",
       "      <td>Pondelok</td>\n",
       "      <td>050130/4 06:25 &lt;-</td>\n",
       "      <td>050130</td>\n",
       "      <td>11</td>\n",
       "      <td>11</td>\n",
       "      <td>11</td>\n",
       "      <td>0.000000</td>\n",
       "      <td>18.333333</td>\n",
       "      <td>January</td>\n",
       "    </tr>\n",
       "    <tr>\n",
       "      <th>1</th>\n",
       "      <td>AA-217 ET</td>\n",
       "      <td>Crossway Line C 10,8</td>\n",
       "      <td>60</td>\n",
       "      <td>2024-01-01</td>\n",
       "      <td>Pondelok</td>\n",
       "      <td>050130/45 22:30 -&gt;</td>\n",
       "      <td>050130</td>\n",
       "      <td>7</td>\n",
       "      <td>5</td>\n",
       "      <td>4</td>\n",
       "      <td>28.571429</td>\n",
       "      <td>6.666667</td>\n",
       "      <td>January</td>\n",
       "    </tr>\n",
       "    <tr>\n",
       "      <th>2</th>\n",
       "      <td>AA-217 ET</td>\n",
       "      <td>Crossway Line C 10,8</td>\n",
       "      <td>60</td>\n",
       "      <td>2024-01-01</td>\n",
       "      <td>Pondelok</td>\n",
       "      <td>050130/82 20:30 &lt;-</td>\n",
       "      <td>050130</td>\n",
       "      <td>4</td>\n",
       "      <td>4</td>\n",
       "      <td>3</td>\n",
       "      <td>0.000000</td>\n",
       "      <td>5.000000</td>\n",
       "      <td>January</td>\n",
       "    </tr>\n",
       "  </tbody>\n",
       "</table>\n",
       "</div>"
      ],
      "text/plain": [
       "         EČV               Vozidlo  Kapacita      Dátum       Deň  \\\n",
       "0  AA-217 ET  Crossway Line C 10,8        60 2024-01-01  Pondelok   \n",
       "1  AA-217 ET  Crossway Line C 10,8        60 2024-01-01  Pondelok   \n",
       "2  AA-217 ET  Crossway Line C 10,8        60 2024-01-01  Pondelok   \n",
       "\n",
       "                  Spoj    Linka  cestujuci_nastup  cestujuci_vystup  \\\n",
       "0    050130/4 06:25 <-   050130                11                11   \n",
       "1   050130/45 22:30 ->   050130                 7                 5   \n",
       "2   050130/82 20:30 <-   050130                 4                 4   \n",
       "\n",
       "   maximum_cestujich  Maximum obsadenosť [%]  Ø obsadenosť [%]   Mesiac  \n",
       "0                 11                0.000000         18.333333  January  \n",
       "1                  4               28.571429          6.666667  January  \n",
       "2                  3                0.000000          5.000000  January  "
      ]
     },
     "execution_count": 9,
     "metadata": {},
     "output_type": "execute_result"
    }
   ],
   "source": [
    "rajec.head(3)"
   ]
  },
  {
   "cell_type": "code",
   "execution_count": 10,
   "metadata": {},
   "outputs": [],
   "source": [
    "group_linka = rajec.groupby([\"Linka\", \"Mesiac\"])[\"cestujuci_nastup\"].mean().reset_index()\n",
    "group_linka\n",
    "\n",
    "# Definovanie poradia mesiacov\n",
    "mesiace = ['January', 'February', 'March', 'April', 'May', 'June', 'July']\n",
    "group_linka['Mesiac'] = pd.Categorical(group_linka['Mesiac'], categories=mesiace, ordered=True)\n",
    "\n",
    "# Zoradenie podľa mesiacov\n",
    "group_linka = group_linka.sort_values(by=['Linka', 'Mesiac'])"
   ]
  },
  {
   "cell_type": "code",
   "execution_count": 15,
   "metadata": {},
   "outputs": [],
   "source": [
    "group_linka\n",
    "group_linka.to_excel('jednotlive_linky.xlsx', index=False)\n"
   ]
  },
  {
   "cell_type": "code",
   "execution_count": 12,
   "metadata": {},
   "outputs": [
    {
     "data": {
      "application/vnd.plotly.v1+json": {
       "config": {
        "plotlyServerURL": "https://plot.ly"
       },
       "data": [
        {
         "hovertemplate": "Linka= 050130<br>Mesiac=%{x}<br>Priemerný počet cestujúcich=%{y}<extra></extra>",
         "legendgroup": " 050130",
         "line": {
          "color": "#636efa",
          "dash": "solid"
         },
         "marker": {
          "symbol": "circle"
         },
         "mode": "lines+markers",
         "name": " 050130",
         "orientation": "v",
         "showlegend": true,
         "type": "scatter",
         "x": [
          "January",
          "February",
          "March",
          "April",
          "May",
          "June",
          "July"
         ],
         "xaxis": "x",
         "y": [
          21.131555555555554,
          22.07074569789675,
          23.174863387978142,
          23.535326086956523,
          23.113074204946997,
          23.137614678899084,
          21.24922118380062
         ],
         "yaxis": "y"
        },
        {
         "hovertemplate": "Linka= 050131<br>Mesiac=%{x}<br>Priemerný počet cestujúcich=%{y}<extra></extra>",
         "legendgroup": " 050131",
         "line": {
          "color": "#EF553B",
          "dash": "solid"
         },
         "marker": {
          "symbol": "circle"
         },
         "mode": "lines+markers",
         "name": " 050131",
         "orientation": "v",
         "showlegend": true,
         "type": "scatter",
         "x": [
          "January",
          "February",
          "March",
          "April",
          "May",
          "June",
          "July"
         ],
         "xaxis": "x",
         "y": [
          6.072175732217573,
          6.031460674157303,
          6.360341151385928,
          6.767741935483871,
          6.291710388247639,
          6.1521739130434785,
          3.670366259711432
         ],
         "yaxis": "y"
        },
        {
         "hovertemplate": "Linka= 050132<br>Mesiac=%{x}<br>Priemerný počet cestujúcich=%{y}<extra></extra>",
         "legendgroup": " 050132",
         "line": {
          "color": "#00cc96",
          "dash": "solid"
         },
         "marker": {
          "symbol": "circle"
         },
         "mode": "lines+markers",
         "name": " 050132",
         "orientation": "v",
         "showlegend": true,
         "type": "scatter",
         "x": [
          "January",
          "February",
          "March",
          "April",
          "May",
          "June",
          "July"
         ],
         "xaxis": "x",
         "y": [
          10.27046918123275,
          10.551420176297746,
          11.021800947867298,
          11.5600756859035,
          10.770582793709528,
          10.486538461538462,
          8
         ],
         "yaxis": "y"
        },
        {
         "hovertemplate": "Linka= 050133<br>Mesiac=%{x}<br>Priemerný počet cestujúcich=%{y}<extra></extra>",
         "legendgroup": " 050133",
         "line": {
          "color": "#ab63fa",
          "dash": "solid"
         },
         "marker": {
          "symbol": "circle"
         },
         "mode": "lines+markers",
         "name": " 050133",
         "orientation": "v",
         "showlegend": true,
         "type": "scatter",
         "x": [
          "January",
          "February",
          "March",
          "April",
          "May",
          "June",
          "July"
         ],
         "xaxis": "x",
         "y": [
          10.854761904761904,
          11.44915254237288,
          11.455217748562038,
          11.779327317473339,
          10.87459807073955,
          10.775,
          7.804549283909014
         ],
         "yaxis": "y"
        },
        {
         "hovertemplate": "Linka= 050135<br>Mesiac=%{x}<br>Priemerný počet cestujúcich=%{y}<extra></extra>",
         "legendgroup": " 050135",
         "line": {
          "color": "#FFA15A",
          "dash": "solid"
         },
         "marker": {
          "symbol": "circle"
         },
         "mode": "lines+markers",
         "name": " 050135",
         "orientation": "v",
         "showlegend": true,
         "type": "scatter",
         "x": [
          "January",
          "February",
          "March",
          "April",
          "May",
          "June",
          "July"
         ],
         "xaxis": "x",
         "y": [
          34.483870967741936,
          35.86206896551724,
          37.3089430894309,
          38.23529411764706,
          42.467213114754095,
          40.775,
          45.74193548387097
         ],
         "yaxis": "y"
        },
        {
         "hovertemplate": "Linka= 050137<br>Mesiac=%{x}<br>Priemerný počet cestujúcich=%{y}<extra></extra>",
         "legendgroup": " 050137",
         "line": {
          "color": "#19d3f3",
          "dash": "solid"
         },
         "marker": {
          "symbol": "circle"
         },
         "mode": "lines+markers",
         "name": " 050137",
         "orientation": "v",
         "showlegend": true,
         "type": "scatter",
         "x": [
          "January",
          "February",
          "March",
          "April",
          "May",
          "June",
          "July"
         ],
         "xaxis": "x",
         "y": [
          16.56388595564942,
          16.6636259977195,
          16.870171673819744,
          17.469957081545065,
          17.65631469979296,
          17.488172043010753,
          16.635416666666668
         ],
         "yaxis": "y"
        },
        {
         "hovertemplate": "Linka= 050138<br>Mesiac=%{x}<br>Priemerný počet cestujúcich=%{y}<extra></extra>",
         "legendgroup": " 050138",
         "line": {
          "color": "#FF6692",
          "dash": "solid"
         },
         "marker": {
          "symbol": "circle"
         },
         "mode": "lines+markers",
         "name": " 050138",
         "orientation": "v",
         "showlegend": true,
         "type": "scatter",
         "x": [
          "January",
          "February",
          "March",
          "April",
          "May",
          "June",
          "July"
         ],
         "xaxis": "x",
         "y": [
          2.6963064295485637,
          2.7348703170028816,
          3.0233236151603498,
          3.078459343794579,
          3.0648801128349787,
          2.948529411764706,
          1.3073770491803278
         ],
         "yaxis": "y"
        },
        {
         "hovertemplate": "Linka= 050139<br>Mesiac=%{x}<br>Priemerný počet cestujúcich=%{y}<extra></extra>",
         "legendgroup": " 050139",
         "line": {
          "color": "#B6E880",
          "dash": "solid"
         },
         "marker": {
          "symbol": "circle"
         },
         "mode": "lines+markers",
         "name": " 050139",
         "orientation": "v",
         "showlegend": true,
         "type": "scatter",
         "x": [
          "January",
          "February",
          "March",
          "April",
          "May",
          "June",
          "July"
         ],
         "xaxis": "x",
         "y": [
          5.947065592635213,
          5.954433497536946,
          6.33855421686747,
          6.425,
          6.170760233918129,
          5.73960880195599,
          3.842925659472422
         ],
         "yaxis": "y"
        }
       ],
       "layout": {
        "legend": {
         "title": {
          "text": "Linka"
         },
         "tracegroupgap": 0
        },
        "template": {
         "data": {
          "bar": [
           {
            "error_x": {
             "color": "#2a3f5f"
            },
            "error_y": {
             "color": "#2a3f5f"
            },
            "marker": {
             "line": {
              "color": "#E5ECF6",
              "width": 0.5
             },
             "pattern": {
              "fillmode": "overlay",
              "size": 10,
              "solidity": 0.2
             }
            },
            "type": "bar"
           }
          ],
          "barpolar": [
           {
            "marker": {
             "line": {
              "color": "#E5ECF6",
              "width": 0.5
             },
             "pattern": {
              "fillmode": "overlay",
              "size": 10,
              "solidity": 0.2
             }
            },
            "type": "barpolar"
           }
          ],
          "carpet": [
           {
            "aaxis": {
             "endlinecolor": "#2a3f5f",
             "gridcolor": "white",
             "linecolor": "white",
             "minorgridcolor": "white",
             "startlinecolor": "#2a3f5f"
            },
            "baxis": {
             "endlinecolor": "#2a3f5f",
             "gridcolor": "white",
             "linecolor": "white",
             "minorgridcolor": "white",
             "startlinecolor": "#2a3f5f"
            },
            "type": "carpet"
           }
          ],
          "choropleth": [
           {
            "colorbar": {
             "outlinewidth": 0,
             "ticks": ""
            },
            "type": "choropleth"
           }
          ],
          "contour": [
           {
            "colorbar": {
             "outlinewidth": 0,
             "ticks": ""
            },
            "colorscale": [
             [
              0,
              "#0d0887"
             ],
             [
              0.1111111111111111,
              "#46039f"
             ],
             [
              0.2222222222222222,
              "#7201a8"
             ],
             [
              0.3333333333333333,
              "#9c179e"
             ],
             [
              0.4444444444444444,
              "#bd3786"
             ],
             [
              0.5555555555555556,
              "#d8576b"
             ],
             [
              0.6666666666666666,
              "#ed7953"
             ],
             [
              0.7777777777777778,
              "#fb9f3a"
             ],
             [
              0.8888888888888888,
              "#fdca26"
             ],
             [
              1,
              "#f0f921"
             ]
            ],
            "type": "contour"
           }
          ],
          "contourcarpet": [
           {
            "colorbar": {
             "outlinewidth": 0,
             "ticks": ""
            },
            "type": "contourcarpet"
           }
          ],
          "heatmap": [
           {
            "colorbar": {
             "outlinewidth": 0,
             "ticks": ""
            },
            "colorscale": [
             [
              0,
              "#0d0887"
             ],
             [
              0.1111111111111111,
              "#46039f"
             ],
             [
              0.2222222222222222,
              "#7201a8"
             ],
             [
              0.3333333333333333,
              "#9c179e"
             ],
             [
              0.4444444444444444,
              "#bd3786"
             ],
             [
              0.5555555555555556,
              "#d8576b"
             ],
             [
              0.6666666666666666,
              "#ed7953"
             ],
             [
              0.7777777777777778,
              "#fb9f3a"
             ],
             [
              0.8888888888888888,
              "#fdca26"
             ],
             [
              1,
              "#f0f921"
             ]
            ],
            "type": "heatmap"
           }
          ],
          "heatmapgl": [
           {
            "colorbar": {
             "outlinewidth": 0,
             "ticks": ""
            },
            "colorscale": [
             [
              0,
              "#0d0887"
             ],
             [
              0.1111111111111111,
              "#46039f"
             ],
             [
              0.2222222222222222,
              "#7201a8"
             ],
             [
              0.3333333333333333,
              "#9c179e"
             ],
             [
              0.4444444444444444,
              "#bd3786"
             ],
             [
              0.5555555555555556,
              "#d8576b"
             ],
             [
              0.6666666666666666,
              "#ed7953"
             ],
             [
              0.7777777777777778,
              "#fb9f3a"
             ],
             [
              0.8888888888888888,
              "#fdca26"
             ],
             [
              1,
              "#f0f921"
             ]
            ],
            "type": "heatmapgl"
           }
          ],
          "histogram": [
           {
            "marker": {
             "pattern": {
              "fillmode": "overlay",
              "size": 10,
              "solidity": 0.2
             }
            },
            "type": "histogram"
           }
          ],
          "histogram2d": [
           {
            "colorbar": {
             "outlinewidth": 0,
             "ticks": ""
            },
            "colorscale": [
             [
              0,
              "#0d0887"
             ],
             [
              0.1111111111111111,
              "#46039f"
             ],
             [
              0.2222222222222222,
              "#7201a8"
             ],
             [
              0.3333333333333333,
              "#9c179e"
             ],
             [
              0.4444444444444444,
              "#bd3786"
             ],
             [
              0.5555555555555556,
              "#d8576b"
             ],
             [
              0.6666666666666666,
              "#ed7953"
             ],
             [
              0.7777777777777778,
              "#fb9f3a"
             ],
             [
              0.8888888888888888,
              "#fdca26"
             ],
             [
              1,
              "#f0f921"
             ]
            ],
            "type": "histogram2d"
           }
          ],
          "histogram2dcontour": [
           {
            "colorbar": {
             "outlinewidth": 0,
             "ticks": ""
            },
            "colorscale": [
             [
              0,
              "#0d0887"
             ],
             [
              0.1111111111111111,
              "#46039f"
             ],
             [
              0.2222222222222222,
              "#7201a8"
             ],
             [
              0.3333333333333333,
              "#9c179e"
             ],
             [
              0.4444444444444444,
              "#bd3786"
             ],
             [
              0.5555555555555556,
              "#d8576b"
             ],
             [
              0.6666666666666666,
              "#ed7953"
             ],
             [
              0.7777777777777778,
              "#fb9f3a"
             ],
             [
              0.8888888888888888,
              "#fdca26"
             ],
             [
              1,
              "#f0f921"
             ]
            ],
            "type": "histogram2dcontour"
           }
          ],
          "mesh3d": [
           {
            "colorbar": {
             "outlinewidth": 0,
             "ticks": ""
            },
            "type": "mesh3d"
           }
          ],
          "parcoords": [
           {
            "line": {
             "colorbar": {
              "outlinewidth": 0,
              "ticks": ""
             }
            },
            "type": "parcoords"
           }
          ],
          "pie": [
           {
            "automargin": true,
            "type": "pie"
           }
          ],
          "scatter": [
           {
            "fillpattern": {
             "fillmode": "overlay",
             "size": 10,
             "solidity": 0.2
            },
            "type": "scatter"
           }
          ],
          "scatter3d": [
           {
            "line": {
             "colorbar": {
              "outlinewidth": 0,
              "ticks": ""
             }
            },
            "marker": {
             "colorbar": {
              "outlinewidth": 0,
              "ticks": ""
             }
            },
            "type": "scatter3d"
           }
          ],
          "scattercarpet": [
           {
            "marker": {
             "colorbar": {
              "outlinewidth": 0,
              "ticks": ""
             }
            },
            "type": "scattercarpet"
           }
          ],
          "scattergeo": [
           {
            "marker": {
             "colorbar": {
              "outlinewidth": 0,
              "ticks": ""
             }
            },
            "type": "scattergeo"
           }
          ],
          "scattergl": [
           {
            "marker": {
             "colorbar": {
              "outlinewidth": 0,
              "ticks": ""
             }
            },
            "type": "scattergl"
           }
          ],
          "scattermapbox": [
           {
            "marker": {
             "colorbar": {
              "outlinewidth": 0,
              "ticks": ""
             }
            },
            "type": "scattermapbox"
           }
          ],
          "scatterpolar": [
           {
            "marker": {
             "colorbar": {
              "outlinewidth": 0,
              "ticks": ""
             }
            },
            "type": "scatterpolar"
           }
          ],
          "scatterpolargl": [
           {
            "marker": {
             "colorbar": {
              "outlinewidth": 0,
              "ticks": ""
             }
            },
            "type": "scatterpolargl"
           }
          ],
          "scatterternary": [
           {
            "marker": {
             "colorbar": {
              "outlinewidth": 0,
              "ticks": ""
             }
            },
            "type": "scatterternary"
           }
          ],
          "surface": [
           {
            "colorbar": {
             "outlinewidth": 0,
             "ticks": ""
            },
            "colorscale": [
             [
              0,
              "#0d0887"
             ],
             [
              0.1111111111111111,
              "#46039f"
             ],
             [
              0.2222222222222222,
              "#7201a8"
             ],
             [
              0.3333333333333333,
              "#9c179e"
             ],
             [
              0.4444444444444444,
              "#bd3786"
             ],
             [
              0.5555555555555556,
              "#d8576b"
             ],
             [
              0.6666666666666666,
              "#ed7953"
             ],
             [
              0.7777777777777778,
              "#fb9f3a"
             ],
             [
              0.8888888888888888,
              "#fdca26"
             ],
             [
              1,
              "#f0f921"
             ]
            ],
            "type": "surface"
           }
          ],
          "table": [
           {
            "cells": {
             "fill": {
              "color": "#EBF0F8"
             },
             "line": {
              "color": "white"
             }
            },
            "header": {
             "fill": {
              "color": "#C8D4E3"
             },
             "line": {
              "color": "white"
             }
            },
            "type": "table"
           }
          ]
         },
         "layout": {
          "annotationdefaults": {
           "arrowcolor": "#2a3f5f",
           "arrowhead": 0,
           "arrowwidth": 1
          },
          "autotypenumbers": "strict",
          "coloraxis": {
           "colorbar": {
            "outlinewidth": 0,
            "ticks": ""
           }
          },
          "colorscale": {
           "diverging": [
            [
             0,
             "#8e0152"
            ],
            [
             0.1,
             "#c51b7d"
            ],
            [
             0.2,
             "#de77ae"
            ],
            [
             0.3,
             "#f1b6da"
            ],
            [
             0.4,
             "#fde0ef"
            ],
            [
             0.5,
             "#f7f7f7"
            ],
            [
             0.6,
             "#e6f5d0"
            ],
            [
             0.7,
             "#b8e186"
            ],
            [
             0.8,
             "#7fbc41"
            ],
            [
             0.9,
             "#4d9221"
            ],
            [
             1,
             "#276419"
            ]
           ],
           "sequential": [
            [
             0,
             "#0d0887"
            ],
            [
             0.1111111111111111,
             "#46039f"
            ],
            [
             0.2222222222222222,
             "#7201a8"
            ],
            [
             0.3333333333333333,
             "#9c179e"
            ],
            [
             0.4444444444444444,
             "#bd3786"
            ],
            [
             0.5555555555555556,
             "#d8576b"
            ],
            [
             0.6666666666666666,
             "#ed7953"
            ],
            [
             0.7777777777777778,
             "#fb9f3a"
            ],
            [
             0.8888888888888888,
             "#fdca26"
            ],
            [
             1,
             "#f0f921"
            ]
           ],
           "sequentialminus": [
            [
             0,
             "#0d0887"
            ],
            [
             0.1111111111111111,
             "#46039f"
            ],
            [
             0.2222222222222222,
             "#7201a8"
            ],
            [
             0.3333333333333333,
             "#9c179e"
            ],
            [
             0.4444444444444444,
             "#bd3786"
            ],
            [
             0.5555555555555556,
             "#d8576b"
            ],
            [
             0.6666666666666666,
             "#ed7953"
            ],
            [
             0.7777777777777778,
             "#fb9f3a"
            ],
            [
             0.8888888888888888,
             "#fdca26"
            ],
            [
             1,
             "#f0f921"
            ]
           ]
          },
          "colorway": [
           "#636efa",
           "#EF553B",
           "#00cc96",
           "#ab63fa",
           "#FFA15A",
           "#19d3f3",
           "#FF6692",
           "#B6E880",
           "#FF97FF",
           "#FECB52"
          ],
          "font": {
           "color": "#2a3f5f"
          },
          "geo": {
           "bgcolor": "white",
           "lakecolor": "white",
           "landcolor": "#E5ECF6",
           "showlakes": true,
           "showland": true,
           "subunitcolor": "white"
          },
          "hoverlabel": {
           "align": "left"
          },
          "hovermode": "closest",
          "mapbox": {
           "style": "light"
          },
          "paper_bgcolor": "white",
          "plot_bgcolor": "#E5ECF6",
          "polar": {
           "angularaxis": {
            "gridcolor": "white",
            "linecolor": "white",
            "ticks": ""
           },
           "bgcolor": "#E5ECF6",
           "radialaxis": {
            "gridcolor": "white",
            "linecolor": "white",
            "ticks": ""
           }
          },
          "scene": {
           "xaxis": {
            "backgroundcolor": "#E5ECF6",
            "gridcolor": "white",
            "gridwidth": 2,
            "linecolor": "white",
            "showbackground": true,
            "ticks": "",
            "zerolinecolor": "white"
           },
           "yaxis": {
            "backgroundcolor": "#E5ECF6",
            "gridcolor": "white",
            "gridwidth": 2,
            "linecolor": "white",
            "showbackground": true,
            "ticks": "",
            "zerolinecolor": "white"
           },
           "zaxis": {
            "backgroundcolor": "#E5ECF6",
            "gridcolor": "white",
            "gridwidth": 2,
            "linecolor": "white",
            "showbackground": true,
            "ticks": "",
            "zerolinecolor": "white"
           }
          },
          "shapedefaults": {
           "line": {
            "color": "#2a3f5f"
           }
          },
          "ternary": {
           "aaxis": {
            "gridcolor": "white",
            "linecolor": "white",
            "ticks": ""
           },
           "baxis": {
            "gridcolor": "white",
            "linecolor": "white",
            "ticks": ""
           },
           "bgcolor": "#E5ECF6",
           "caxis": {
            "gridcolor": "white",
            "linecolor": "white",
            "ticks": ""
           }
          },
          "title": {
           "x": 0.05
          },
          "xaxis": {
           "automargin": true,
           "gridcolor": "white",
           "linecolor": "white",
           "ticks": "",
           "title": {
            "standoff": 15
           },
           "zerolinecolor": "white",
           "zerolinewidth": 2
          },
          "yaxis": {
           "automargin": true,
           "gridcolor": "white",
           "linecolor": "white",
           "ticks": "",
           "title": {
            "standoff": 15
           },
           "zerolinecolor": "white",
           "zerolinewidth": 2
          }
         }
        },
        "title": {
         "text": "<b>Priemerný počet cestujúcich podľa linky a mesiaca v Rajci<b>",
         "x": 0.5
        },
        "xaxis": {
         "anchor": "y",
         "domain": [
          0,
          1
         ],
         "title": {
          "text": "Mesiac"
         }
        },
        "yaxis": {
         "anchor": "x",
         "domain": [
          0,
          1
         ],
         "title": {
          "text": "Priemerný počet cestujúcich"
         }
        }
       }
      }
     },
     "metadata": {},
     "output_type": "display_data"
    }
   ],
   "source": [
    "fig = px.line(\n",
    "    group_linka,\n",
    "    x='Mesiac',\n",
    "    y='cestujuci_nastup',\n",
    "    color='Linka',\n",
    "    markers=True,\n",
    "    title='<b>Priemerný počet cestujúcich podľa linky a mesiaca v Rajci<b>',\n",
    "    labels={'Mesiac': 'Mesiac', 'cestujuci_nastup': 'Priemerný počet cestujúcich', 'Linka': 'Linka'}\n",
    ")\n",
    "\n",
    "fig.update_layout(title_x=0.5)\n",
    "fig.show()\n",
    "fig.write_html('jednotlive_linky.html')"
   ]
  },
  {
   "cell_type": "code",
   "execution_count": 13,
   "metadata": {},
   "outputs": [
    {
     "data": {
      "text/html": [
       "<div>\n",
       "<style scoped>\n",
       "    .dataframe tbody tr th:only-of-type {\n",
       "        vertical-align: middle;\n",
       "    }\n",
       "\n",
       "    .dataframe tbody tr th {\n",
       "        vertical-align: top;\n",
       "    }\n",
       "\n",
       "    .dataframe thead th {\n",
       "        text-align: right;\n",
       "    }\n",
       "</style>\n",
       "<table border=\"1\" class=\"dataframe\">\n",
       "  <thead>\n",
       "    <tr style=\"text-align: right;\">\n",
       "      <th></th>\n",
       "      <th>EČV</th>\n",
       "      <th>Vozidlo</th>\n",
       "      <th>Kapacita</th>\n",
       "      <th>Dátum</th>\n",
       "      <th>Deň</th>\n",
       "      <th>Spoj</th>\n",
       "      <th>Linka</th>\n",
       "      <th>cestujuci_nastup</th>\n",
       "      <th>cestujuci_vystup</th>\n",
       "      <th>maximum_cestujich</th>\n",
       "      <th>Maximum obsadenosť [%]</th>\n",
       "      <th>Ø obsadenosť [%]</th>\n",
       "      <th>Mesiac</th>\n",
       "    </tr>\n",
       "  </thead>\n",
       "  <tbody>\n",
       "    <tr>\n",
       "      <th>0</th>\n",
       "      <td>AA-217 ET</td>\n",
       "      <td>Crossway Line C 10,8</td>\n",
       "      <td>60</td>\n",
       "      <td>2024-01-01</td>\n",
       "      <td>Pondelok</td>\n",
       "      <td>050130/4 06:25 &lt;-</td>\n",
       "      <td>050130</td>\n",
       "      <td>11</td>\n",
       "      <td>11</td>\n",
       "      <td>11</td>\n",
       "      <td>0.000000</td>\n",
       "      <td>18.333333</td>\n",
       "      <td>January</td>\n",
       "    </tr>\n",
       "    <tr>\n",
       "      <th>1</th>\n",
       "      <td>AA-217 ET</td>\n",
       "      <td>Crossway Line C 10,8</td>\n",
       "      <td>60</td>\n",
       "      <td>2024-01-01</td>\n",
       "      <td>Pondelok</td>\n",
       "      <td>050130/45 22:30 -&gt;</td>\n",
       "      <td>050130</td>\n",
       "      <td>7</td>\n",
       "      <td>5</td>\n",
       "      <td>4</td>\n",
       "      <td>28.571429</td>\n",
       "      <td>6.666667</td>\n",
       "      <td>January</td>\n",
       "    </tr>\n",
       "    <tr>\n",
       "      <th>2</th>\n",
       "      <td>AA-217 ET</td>\n",
       "      <td>Crossway Line C 10,8</td>\n",
       "      <td>60</td>\n",
       "      <td>2024-01-01</td>\n",
       "      <td>Pondelok</td>\n",
       "      <td>050130/82 20:30 &lt;-</td>\n",
       "      <td>050130</td>\n",
       "      <td>4</td>\n",
       "      <td>4</td>\n",
       "      <td>3</td>\n",
       "      <td>0.000000</td>\n",
       "      <td>5.000000</td>\n",
       "      <td>January</td>\n",
       "    </tr>\n",
       "    <tr>\n",
       "      <th>3</th>\n",
       "      <td>AA-217 ET</td>\n",
       "      <td>Crossway Line C 10,8</td>\n",
       "      <td>60</td>\n",
       "      <td>2024-01-01</td>\n",
       "      <td>Pondelok</td>\n",
       "      <td>050137/69 17:13 -&gt;</td>\n",
       "      <td>050137</td>\n",
       "      <td>3</td>\n",
       "      <td>3</td>\n",
       "      <td>3</td>\n",
       "      <td>0.000000</td>\n",
       "      <td>5.000000</td>\n",
       "      <td>January</td>\n",
       "    </tr>\n",
       "    <tr>\n",
       "      <th>4</th>\n",
       "      <td>AA-217 ET</td>\n",
       "      <td>Crossway Line C 10,8</td>\n",
       "      <td>60</td>\n",
       "      <td>2024-01-01</td>\n",
       "      <td>Pondelok</td>\n",
       "      <td>050137/72 17:50 &lt;-</td>\n",
       "      <td>050137</td>\n",
       "      <td>8</td>\n",
       "      <td>8</td>\n",
       "      <td>8</td>\n",
       "      <td>0.000000</td>\n",
       "      <td>13.333333</td>\n",
       "      <td>January</td>\n",
       "    </tr>\n",
       "  </tbody>\n",
       "</table>\n",
       "</div>"
      ],
      "text/plain": [
       "         EČV               Vozidlo  Kapacita      Dátum       Deň  \\\n",
       "0  AA-217 ET  Crossway Line C 10,8        60 2024-01-01  Pondelok   \n",
       "1  AA-217 ET  Crossway Line C 10,8        60 2024-01-01  Pondelok   \n",
       "2  AA-217 ET  Crossway Line C 10,8        60 2024-01-01  Pondelok   \n",
       "3  AA-217 ET  Crossway Line C 10,8        60 2024-01-01  Pondelok   \n",
       "4  AA-217 ET  Crossway Line C 10,8        60 2024-01-01  Pondelok   \n",
       "\n",
       "                  Spoj    Linka  cestujuci_nastup  cestujuci_vystup  \\\n",
       "0    050130/4 06:25 <-   050130                11                11   \n",
       "1   050130/45 22:30 ->   050130                 7                 5   \n",
       "2   050130/82 20:30 <-   050130                 4                 4   \n",
       "3   050137/69 17:13 ->   050137                 3                 3   \n",
       "4   050137/72 17:50 <-   050137                 8                 8   \n",
       "\n",
       "   maximum_cestujich  Maximum obsadenosť [%]  Ø obsadenosť [%]   Mesiac  \n",
       "0                 11                0.000000         18.333333  January  \n",
       "1                  4               28.571429          6.666667  January  \n",
       "2                  3                0.000000          5.000000  January  \n",
       "3                  3                0.000000          5.000000  January  \n",
       "4                  8                0.000000         13.333333  January  "
      ]
     },
     "execution_count": 13,
     "metadata": {},
     "output_type": "execute_result"
    }
   ],
   "source": [
    "rajec.head()"
   ]
  }
 ],
 "metadata": {
  "kernelspec": {
   "display_name": "Pandas-kurz-anaconda",
   "language": "python",
   "name": "python3"
  },
  "language_info": {
   "codemirror_mode": {
    "name": "ipython",
    "version": 3
   },
   "file_extension": ".py",
   "mimetype": "text/x-python",
   "name": "python",
   "nbconvert_exporter": "python",
   "pygments_lexer": "ipython3",
   "version": "3.12.4"
  }
 },
 "nbformat": 4,
 "nbformat_minor": 2
}
